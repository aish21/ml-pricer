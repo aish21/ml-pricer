{
 "cells": [
  {
   "cell_type": "code",
   "execution_count": 1,
   "id": "0951d4fc",
   "metadata": {},
   "outputs": [],
   "source": [
    "import numpy as np\n",
    "import matplotlib.pyplot as plt\n",
    "import seaborn as sns\n",
    "import os"
   ]
  },
  {
   "cell_type": "code",
   "execution_count": 6,
   "id": "cb79ddc3",
   "metadata": {},
   "outputs": [],
   "source": [
    "def load_dataset(file=\"../data/raw/training_data.npz\"):\n",
    "    data = np.load(file)\n",
    "    X, y = data[\"X\"], data[\"y\"]\n",
    "    return X, y\n",
    "\n",
    "X, y = load_dataset()"
   ]
  },
  {
   "cell_type": "code",
   "execution_count": 7,
   "id": "4a15d01d",
   "metadata": {},
   "outputs": [
    {
     "name": "stdout",
     "output_type": "stream",
     "text": [
      "Loaded dataset: X (450000, 15), y (450000,)\n"
     ]
    }
   ],
   "source": [
    "print(f\"Loaded dataset: X {X.shape}, y {y.shape}\")"
   ]
  },
  {
   "cell_type": "code",
   "execution_count": 10,
   "id": "a03632aa",
   "metadata": {},
   "outputs": [],
   "source": [
    "def plot_payoff_distribution(y, save_dir=\"../src/visualization/plots\"):\n",
    "    os.makedirs(save_dir, exist_ok=True)\n",
    "    plt.figure(figsize=(8, 5))\n",
    "    sns.histplot(y, bins=100, kde=True)\n",
    "    plt.title(\"Distribution of Discounted Payoffs\")\n",
    "    plt.xlabel(\"Payoff\")\n",
    "    plt.ylabel(\"Frequency\")\n",
    "    plt.tight_layout()\n",
    "    plt.savefig(os.path.join(save_dir, \"payoff_distribution.png\"))\n",
    "    plt.close()\n",
    "\n",
    "plot_payoff_distribution(y)"
   ]
  },
  {
   "cell_type": "code",
   "execution_count": 11,
   "id": "ea682802",
   "metadata": {},
   "outputs": [],
   "source": [
    "def plot_param_histograms(X, prefix_len=10, save_dir=\"../src/visualization/plots\"):\n",
    "    os.makedirs(save_dir, exist_ok=True)\n",
    "    K, T, r, sigma, opt_flag = X[:, prefix_len:].T\n",
    "\n",
    "    fig, axes = plt.subplots(2, 2, figsize=(10, 8))\n",
    "\n",
    "    sns.histplot(K, bins=20, kde=False, ax=axes[0, 0])\n",
    "    axes[0, 0].set_title(\"Strike (K)\")\n",
    "\n",
    "    sns.histplot(T, bins=20, kde=False, ax=axes[0, 1])\n",
    "    axes[0, 1].set_title(\"Maturity (T)\")\n",
    "\n",
    "    sns.histplot(r, bins=20, kde=False, ax=axes[1, 0])\n",
    "    axes[1, 0].set_title(\"Risk-free Rate (r)\")\n",
    "\n",
    "    sns.histplot(sigma, bins=20, kde=False, ax=axes[1, 1])\n",
    "    axes[1, 1].set_title(\"Volatility (sigma)\")\n",
    "\n",
    "    plt.tight_layout()\n",
    "    plt.savefig(os.path.join(save_dir, \"parameter_histograms.png\"))\n",
    "    plt.close()\n",
    "\n",
    "    # Option type split\n",
    "    plt.figure(figsize=(5, 4))\n",
    "    sns.countplot(x=opt_flag)\n",
    "    plt.xticks([0, 1], [\"Put\", \"Call\"])\n",
    "    plt.title(\"Option Type Counts\")\n",
    "    plt.tight_layout()\n",
    "    plt.savefig(os.path.join(save_dir, \"option_type_counts.png\"))\n",
    "    plt.close()\n",
    "\n",
    "plot_param_histograms(X, prefix_len=10)"
   ]
  },
  {
   "cell_type": "code",
   "execution_count": 13,
   "id": "23dad5f3",
   "metadata": {},
   "outputs": [],
   "source": [
    "def plot_sample_paths(X, n_paths=5, prefix_len=10, save_dir=\"../src/visualization/plots\"):\n",
    "    os.makedirs(save_dir, exist_ok=True)\n",
    "    plt.figure(figsize=(8, 5))\n",
    "\n",
    "    for i in range(n_paths):\n",
    "        prefix = X[i, :prefix_len]\n",
    "        plt.plot(range(prefix_len), prefix, marker=\"o\", label=f\"Path {i+1}\")\n",
    "\n",
    "    plt.title(f\"Sample Prefixes (first {prefix_len} timesteps)\")\n",
    "    plt.xlabel(\"Time step\")\n",
    "    plt.ylabel(\"Stock Price\")\n",
    "    plt.legend()\n",
    "    plt.tight_layout()\n",
    "    plt.savefig(os.path.join(save_dir, \"sample_prefixes.png\"))\n",
    "    plt.close()\n",
    "\n",
    "plot_sample_paths(X, n_paths=5, prefix_len=10)"
   ]
  },
  {
   "cell_type": "code",
   "execution_count": null,
   "id": "2ddc83e0",
   "metadata": {},
   "outputs": [],
   "source": []
  }
 ],
 "metadata": {
  "kernelspec": {
   "display_name": "venv",
   "language": "python",
   "name": "python3"
  },
  "language_info": {
   "codemirror_mode": {
    "name": "ipython",
    "version": 3
   },
   "file_extension": ".py",
   "mimetype": "text/x-python",
   "name": "python",
   "nbconvert_exporter": "python",
   "pygments_lexer": "ipython3",
   "version": "3.12.7"
  }
 },
 "nbformat": 4,
 "nbformat_minor": 5
}
